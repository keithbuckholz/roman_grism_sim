{
 "cells": [
  {
   "cell_type": "code",
   "execution_count": 26,
   "metadata": {},
   "outputs": [],
   "source": [
    "# General imports\n",
    "from tqdm import tqdm\n",
    "import numpy as np\n",
    "import matplotlib.pyplot as plt\n",
    "from scipy import constants\n",
    "from astropy.io import fits\n",
    "from astropy.table import Table\n",
    "import os\n",
    "os.chdir(\"/Users/keith/astr/research_astr/roman_grism_sim/ultra_smooth_lambda_dependent/fits\")\n",
    "\n",
    "# Pretty plots\n",
    "import matplotlib\n",
    "matplotlib.rcParams[\"figure.figsize\"] = (11,8.5)\n",
    "matplotlib.rcParams[\"image.interpolation\"] = \"nearest\"\n",
    "matplotlib.rcParams[\"image.origin\"] = \"lower\"\n",
    "\n",
    "# Grizli\n",
    "from grizli.model import GrismFLT\n",
    "\n",
    "# pysynphot\n",
    "import pysynphot as S\n",
    "\n",
    "# WebbPSF\n",
    "import webbpsf\n",
    "import webbpsf.roman\n",
    "\n",
    "import emcee\n",
    "import corner"
   ]
  },
  {
   "cell_type": "code",
   "execution_count": 27,
   "metadata": {},
   "outputs": [],
   "source": [
    "# Read SED template; using G0V star template\n",
    "spec = Table.read(\"/Users/keith/astr/research_astr/FOV0/FOV0_SEDs/ukg0v.dat\", format=\"ascii\")\n",
    "src = S.ArraySpectrum(wave=spec[\"col1\"], flux=spec[\"col2\"])\n",
    "\n",
    "# PSF\n",
    "wfi = webbpsf.roman.WFI()\n",
    "# webbpsf.setup_logging(\"Error\")\n",
    "\n",
    "eff_psf = wfi.calc_psf(monochromatic=(20000 * (10**-10)), fov_pixels=182, oversample=2, source=src)[0].data\n",
    "\n",
    "psf_direct = np.zeros((4288, 4288))\n",
    "psf_direct[(2144-182): (2144+182), (2144-182):(2144+182)] = eff_psf"
   ]
  },
  {
   "cell_type": "code",
   "execution_count": 28,
   "metadata": {},
   "outputs": [
    {
     "name": "stdout",
     "output_type": "stream",
     "text": [
      "Image cutout: x=slice(0, 4088, None), y=slice(0, 4088, None) [Out of range]\n",
      "empty_direct.fits / Pad ref HDU with 264 pixels\n",
      "empty_direct.fits / blot segmentation empty_seg.fits[0]\n",
      "Using default C-based coordinate transformation...\n",
      "Using default C-based coordinate transformation...\n"
     ]
    }
   ],
   "source": [
    "# initialize grizli\n",
    "pad = 100\n",
    "roman = GrismFLT(direct_file=\"empty_direct.fits\", seg_file=\"empty_seg.fits\", pad=pad)\n",
    "\n",
    "# add psf direct image and seg map\n",
    "roman.direct.data[\"SCI\"] = psf_direct.astype(\"float32\")\n",
    "roman.seg = np.where(roman.direct.data[\"SCI\"], 1, 0).astype(\"float32\")"
   ]
  },
  {
   "cell_type": "code",
   "execution_count": 29,
   "metadata": {},
   "outputs": [],
   "source": [
    "# set truth\n",
    "spec = spec[1770:3771] # truncate spectrum to 10000-20000 angstroms\n",
    "\n",
    "truth = roman.compute_model_orders(id=1, mag=1, compute_size=False, size=77, is_cgs=True, \n",
    "                                   store=False, in_place=False, spectrum_1d=[spec[\"col1\"], spec[\"col2\"]])[1]\n",
    "                                \n",
    "truth_extraction = np.array([truth[:, ii].sum() for ii in range(truth.shape[1])])"
   ]
  },
  {
   "cell_type": "code",
   "execution_count": 30,
   "metadata": {},
   "outputs": [],
   "source": [
    "def chunk(start_wave, end_wave):\n",
    "    start_index = int((start_wave - 10000) / 5)\n",
    "    end_index = int((end_wave - 10000) / 5)\n",
    "\n",
    "    return spec[start_index:end_index]"
   ]
  },
  {
   "cell_type": "code",
   "execution_count": 31,
   "metadata": {},
   "outputs": [],
   "source": [
    "nwalkers = 20\n",
    "niter = 1000\n",
    "initial = ([64, 100])\n",
    "ndim = len(initial)\n",
    "p0 = [np.array(initial) + 1 * np.random.randn(ndim) for i in range(nwalkers)]\n",
    "\n",
    "chip_x = np.arange(0, truth.shape[1], 1)\n",
    "\n",
    "np.random.seed(5)\n",
    "\n",
    "def model(theta):\n",
    "    window_extent, nbins = theta\n",
    "    window_extent = int(window_extent)\n",
    "    nbins = int(nbins)\n",
    "\n",
    "    half_extent = int(window_extent / 2)\n",
    "\n",
    "    window_x = np.linspace(-np.pi/2, np.pi/2, window_extent)\n",
    "    window_y = np.cos(window_x)\n",
    "\n",
    "    bins = np.linspace(10000, 20000, nbins + 1)\n",
    "\n",
    "    piecemeal_sim = np.zeros((4288,4288))\n",
    "    \n",
    "    for ii, start_wave in enumerate(bins[:-1]):\n",
    "        end_wave = bins[ii+1]\n",
    "\n",
    "        spec_chunk = chunk(start_wave, end_wave) # extract relevant part of spetrum\n",
    "        wave = spec_chunk[\"col1\"]\n",
    "        flux = spec_chunk[\"col2\"]\n",
    "\n",
    "        # apodize\n",
    "        front_wave = window_x[0:half_extent] + wave[0]\n",
    "        back_wave = window_x[half_extent:] + wave[-1]\n",
    "\n",
    "        wave = np.append(front_wave, np.append(wave, back_wave))\n",
    "\n",
    "        front_flux = window_y[0:half_extent] * flux[0]\n",
    "        back_flux = window_y[half_extent:] * flux[-1]\n",
    "\n",
    "        flux = np.append(front_flux, np.append(flux, back_flux))\n",
    "\n",
    "        single_dispersion = roman.compute_model_orders(id=1, mag=1, compute_size=False, size=77, is_cgs=True, store=False,\n",
    "                                                       in_place=False, spectrum_1d=[wave, flux])[1]\n",
    "\n",
    "        piecemeal_sim += single_dispersion\n",
    "    \n",
    "    piecemeal_extraction = np.array([piecemeal_sim[:, ii].sum() for ii in range(piecemeal_sim.shape[1])])\n",
    "\n",
    "    return piecemeal_extraction\n",
    "\n",
    "def lnlike(theta, x, y):\n",
    "    Lnlike = -0.5 * np.sum((y - model(theta)) ** 2)\n",
    "    return Lnlike\n",
    "\n",
    "def lnprior(theta):\n",
    "    extent, nbins = theta\n",
    "    if 0 < extent < 1000 and 50 < nbins < 1000:\n",
    "        return 0.0\n",
    "    return -np.inf\n",
    "\n",
    "def lnprob(theta, x, y):\n",
    "    lp = lnprior(theta)\n",
    "    if not np.isfinite(lp):\n",
    "        return -np.inf\n",
    "    return lp + lnlike(theta, x, y)\n",
    "\n",
    "def main(p0, nwalkers, niter, ndim, lnprob, truth_extraction, burnin):\n",
    "    sampler = emcee.EnsembleSampler(nwalkers, ndim, lnprob, args=(chip_x, truth_extraction))\n",
    "\n",
    "    print(\"Running burn in...\")\n",
    "    state = sampler.run_mcmc(p0, burnin)\n",
    "    sampler.reset\n",
    "\n",
    "    print(\"Running production...\")\n",
    "    sampler.run_mcmc(state, niter)\n",
    "\n",
    "    return sampler\n",
    "\n",
    "def plotter(sampler, truth_extraction):\n",
    "\n",
    "    plt.plot(chip_x, truth_extraction)\n",
    "\n",
    "    samples = sampler.flatchain\n",
    "    for theta in samples[np.random.randint(len(samples), size=100)]:\n",
    "        plt.plot(chip_x, model(theta), color='r', alpha=0.1)\n",
    "\n",
    "    plt.show()"
   ]
  },
  {
   "cell_type": "code",
   "execution_count": null,
   "metadata": {},
   "outputs": [
    {
     "name": "stdout",
     "output_type": "stream",
     "text": [
      "Running burn in...\n"
     ]
    }
   ],
   "source": [
    "sampler = main(p0, nwalkers, niter, ndim, lnprob, truth_extraction, 500)\n",
    "plotter(sampler, truth_extraction)"
   ]
  },
  {
   "cell_type": "code",
   "execution_count": 25,
   "metadata": {},
   "outputs": [
    {
     "name": "stderr",
     "output_type": "stream",
     "text": [
      "WARNING:root:Too few points to create valid contours\n"
     ]
    },
    {
     "data": {
      "image/png": "[encoded data removed]",
      "text/plain": [
       "<Figure size 550x550 with 4 Axes>"
      ]
     },
     "metadata": {},
     "output_type": "display_data"
    }
   ],
   "source": [
    "samples = sampler.flatchain\n",
    "fig = corner.corner(samples)"
   ]
  }
 ],
 "metadata": {
  "kernelspec": {
   "display_name": "grizli-env",
   "language": "python",
   "name": "python3"
  },
  "language_info": {
   "codemirror_mode": {
    "name": "ipython",
    "version": 3
   },
   "file_extension": ".py",
   "mimetype": "text/x-python",
   "name": "python",
   "nbconvert_exporter": "python",
   "pygments_lexer": "ipython3",
   "version": "3.12.3"
  }
 },
 "nbformat": 4,
 "nbformat_minor": 2
}
