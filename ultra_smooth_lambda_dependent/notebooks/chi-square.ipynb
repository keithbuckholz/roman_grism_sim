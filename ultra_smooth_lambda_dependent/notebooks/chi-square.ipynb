{
 "cells": [
  {
   "cell_type": "code",
   "execution_count": 1,
   "metadata": {},
   "outputs": [
    {
     "name": "stderr",
     "output_type": "stream",
     "text": [
      "/Users/keith/miniconda3/envs/grizli-env/lib/python3.12/site-packages/pysynphot/refs.py:117: UserWarning: No graph or component tables found; functionality will be SEVERELY crippled. No files found for /Users/keith/PYSYN_CDBS/mtab/*_tmg.fits\n",
      "  warnings.warn('No graph or component tables found; '\n",
      "/Users/keith/miniconda3/envs/grizli-env/lib/python3.12/site-packages/pysynphot/refs.py:124: UserWarning: No thermal tables found, no thermal calculations can be performed. No files found for /Users/keith/PYSYN_CDBS/mtab/*_tmt.fits\n",
      "  warnings.warn('No thermal tables found, '\n",
      "**WARNING**: LOCAL JWST PRD VERSION PRDOPSSOC-065 DOESN'T MATCH THE CURRENT ONLINE VERSION PRDOPSSOC-067\n",
      "Please consider updating pysiaf, e.g. pip install --upgrade pysiaf or conda update pysiaf\n"
     ]
    }
   ],
   "source": [
    "# General imports\n",
    "from tqdm import tqdm\n",
    "import numpy as np\n",
    "import matplotlib.pyplot as plt\n",
    "from scipy import constants\n",
    "from astropy.io import fits\n",
    "from astropy.table import Table\n",
    "import os\n",
    "os.chdir(\"/Users/keith/astr/research_astr/roman_grism_sim/ultra_smooth_lambda_dependent/fits\")\n",
    "\n",
    "# Pretty plots\n",
    "import matplotlib\n",
    "matplotlib.rcParams[\"figure.figsize\"] = (11,8.5)\n",
    "matplotlib.rcParams[\"image.interpolation\"] = \"nearest\"\n",
    "matplotlib.rcParams[\"image.origin\"] = \"lower\"\n",
    "\n",
    "# Grizli\n",
    "from grizli.model import GrismFLT\n",
    "\n",
    "# pysynphot\n",
    "import pysynphot as S\n",
    "\n",
    "# WebbPSF\n",
    "import webbpsf\n",
    "import webbpsf.roman\n",
    "\n",
    "from scipy.stats import chisquare"
   ]
  },
  {
   "cell_type": "code",
   "execution_count": 2,
   "metadata": {},
   "outputs": [],
   "source": [
    "# Read SED template; using G0V star template\n",
    "spec = Table.read(\"/Users/keith/astr/research_astr/FOV0/FOV0_SEDs/ukg0v.dat\", format=\"ascii\")\n",
    "src = S.ArraySpectrum(wave=spec[\"col1\"], flux=spec[\"col2\"])\n",
    "\n",
    "# PSF\n",
    "wfi = webbpsf.roman.WFI()\n",
    "# webbpsf.setup_logging(\"Error\")\n",
    "\n",
    "eff_psf = wfi.calc_psf(monochromatic=(20000 * (10**-10)), fov_pixels=182, oversample=2, source=src)[0].data\n",
    "\n",
    "psf_direct = np.zeros((4288, 4288))\n",
    "psf_direct[(2144-182): (2144+182), (2144-182):(2144+182)] = eff_psf"
   ]
  },
  {
   "cell_type": "code",
   "execution_count": 3,
   "metadata": {},
   "outputs": [
    {
     "name": "stdout",
     "output_type": "stream",
     "text": [
      "\n",
      "\n",
      "Image cutout: x=slice(0, 4088, None), y=slice(0, 4088, None) [Out of range]\n",
      "empty_direct.fits / Pad ref HDU with 264 pixels\n",
      "empty_direct.fits / blot segmentation empty_seg.fits[0]\n",
      "The following task in the stsci.skypac package can be run with TEAL:\n",
      "                                    skymatch                                    \n",
      "The following tasks in the drizzlepac package can be run with TEAL:\n",
      "    astrodrizzle       config_testbed      imagefindpars           mapreg       \n",
      "       photeq            pixreplace           pixtopix            pixtosky      \n",
      "  refimagefindpars       resetbits          runastrodriz          skytopix      \n",
      "     tweakback            tweakreg           updatenpol\n",
      "Using default C-based coordinate transformation...\n",
      "Using default C-based coordinate transformation...\n"
     ]
    }
   ],
   "source": [
    "# initialize grizli\n",
    "pad = 100\n",
    "roman = GrismFLT(direct_file=\"empty_direct.fits\", seg_file=\"empty_seg.fits\", pad=pad)\n",
    "\n",
    "# add psf direct image and seg map\n",
    "roman.direct.data[\"SCI\"] = psf_direct.astype(\"float32\")\n",
    "roman.seg = np.where(roman.direct.data[\"SCI\"], 1, 0).astype(\"float32\")"
   ]
  },
  {
   "cell_type": "code",
   "execution_count": 4,
   "metadata": {},
   "outputs": [],
   "source": [
    "# set truth\n",
    "spec = spec[1770:3771] # truncate spectrum to 10000-20000 angstroms\n",
    "\n",
    "truth = roman.compute_model_orders(id=1, mag=1, compute_size=False, size=77, is_cgs=True, \n",
    "                                   store=False, in_place=False, spectrum_1d=[spec[\"col1\"], spec[\"col2\"]])[1]\n",
    "                                \n",
    "truth_extraction = np.array([truth[:, ii].sum() for ii in range(truth.shape[1])])"
   ]
  },
  {
   "cell_type": "code",
   "execution_count": 5,
   "metadata": {},
   "outputs": [],
   "source": [
    "def chunk(start_wave, end_wave):\n",
    "    start_index = int((start_wave - 10000) / 5)\n",
    "    end_index = int((end_wave - 10000) / 5) + 1\n",
    "\n",
    "    chunk_spec = np.asarray(spec[start_index:end_index])\n",
    "\n",
    "    return chunk_spec\n",
    "\n",
    "def dispersion_model(pad, nbins, return_input=False, return_extraction=False, return_all=False):\n",
    "\n",
    "    pad = int(pad) # overlap extent; data points\n",
    "    nbins = int(nbins) # number of bins\n",
    "\n",
    "    window_x = np.linspace(0, np.pi, pad)\n",
    "    front_y = (1-np.cos(window_x)) / 2\n",
    "    back_y = 1 - front_y\n",
    "\n",
    "    bins = np.linspace(10000, 20000, nbins + 1)\n",
    "\n",
    "    piecemeal_sim = np.zeros((4288,4288))\n",
    "\n",
    "    input_catcher = []\n",
    "    \n",
    "    for ii, start_wave in enumerate(bins[:-1]):\n",
    "        end_wave = bins[ii+1]\n",
    "\n",
    "        start_wave -= (pad * 5) * 0.5 # times 5 from indicies to wavelength\n",
    "        end_wave += ((pad - 1) * 5) * 0.5\n",
    "\n",
    "        if start_wave < 10000:\n",
    "            start_wave = 10000\n",
    "        \n",
    "        if end_wave > 20000:\n",
    "            end_wave = 20000\n",
    "\n",
    "        chunk_spec = chunk(start_wave, end_wave) # extract relevant part of spectrum\n",
    "        wave = chunk_spec[\"col1\"]\n",
    "        flux = chunk_spec[\"col2\"]\n",
    "\n",
    "        # apodize\n",
    "        if start_wave != 10000:\n",
    "            flux[:pad] *= front_y\n",
    "\n",
    "        if end_wave != 20000:\n",
    "            flux[-pad:] *= back_y\n",
    "\n",
    "        # print(\"wave range:\", wave[0], wave[-1])\n",
    "        # print(\"flux range:\", flux[0], flux[-1])\n",
    "\n",
    "        single_dispersion = roman.compute_model_orders(id=1, mag=1, compute_size=False, size=77, is_cgs=True, store=False,\n",
    "                                                       in_place=False, spectrum_1d=[wave, flux])[1]\n",
    "\n",
    "        piecemeal_sim += single_dispersion\n",
    "\n",
    "        apodized_spec = Table([wave, flux], names=(\"wave\",\"flux\"))\n",
    "\n",
    "        input_catcher.append(apodized_spec)\n",
    "\n",
    "        del chunk_spec\n",
    "        del flux\n",
    "        del wave\n",
    "\n",
    "    piecemeal_extraction = np.array([piecemeal_sim[:, ii].sum() for ii in range(piecemeal_sim.shape[1])])\n",
    "\n",
    "    if return_input:\n",
    "        return input_catcher\n",
    "\n",
    "    if return_extraction:\n",
    "        return piecemeal_extraction\n",
    "\n",
    "    if return_all:\n",
    "        return input_catcher, piecemeal_extraction, piecemeal_sim\n",
    "\n",
    "    return piecemeal_sim\n",
    "\n",
    "def combine_overlaps(table_1, table_2):\n",
    "\n",
    "    full_input = join(table_1, table_2, keys='wave', join_type=\"outer\")\n",
    "\n",
    "    full_input[\"flux_1\"].fill_value = 0\n",
    "    full_input[\"flux_2\"].fill_value = 0\n",
    "    full_input = full_input.filled()\n",
    "\n",
    "    sum = full_input[\"flux_1\"] + full_input[\"flux_2\"]\n",
    "\n",
    "    sum_table = Table([full_input[\"wave\"], sum], names=[\"wave\", \"flux\"])\n",
    "\n",
    "    return sum_table"
   ]
  },
  {
   "cell_type": "code",
   "execution_count": 6,
   "metadata": {},
   "outputs": [],
   "source": [
    "# test ranges\n",
    "pad_range = range(2, 21, 2)\n",
    "nbin_range = range(10, 101, 10)"
   ]
  },
  {
   "cell_type": "code",
   "execution_count": 7,
   "metadata": {},
   "outputs": [],
   "source": [
    "chi_image = np.zeros((len(pad_range), len(nbin_range)))\n",
    "\n",
    "def chi_2d():\n",
    "    for ii, pad in enumerate(pad_range):\n",
    "        for jj, nbins in enumerate(nbin_range):\n",
    "            \n",
    "            theta = {\"pad\": pad, \"nbins\": nbins}\n",
    "\n",
    "            chi_image[ii, jj] = sum((truth_extraction - dispersion_model(**theta, return_extraction=True))**2)\n",
    "\n",
    "    return chi_image\n",
    "\n",
    "def chi_1d(pad_range=pad_range, nbins=100):\n",
    "    chi_array = []\n",
    "    for ii, pad in enumerate(pad_range):\n",
    "        theta = {\"pad\": pad, \"nbins\": nbins}\n",
    "\n",
    "        chi_array.append(sum((truth_extraction - dispersion_model(**theta, return_extraction=True))**2))\n",
    "\n",
    "    return chi_array"
   ]
  },
  {
   "cell_type": "code",
   "execution_count": 8,
   "metadata": {},
   "outputs": [],
   "source": [
    "pad_range_1d = np.arange(20, 1000, 2)\n",
    "\n",
    "chi_vals = chi_1d(pad_range=pad_range_1d, nbins=2)"
   ]
  },
  {
   "cell_type": "code",
   "execution_count": 11,
   "metadata": {},
   "outputs": [
    {
     "data": {
      "text/plain": [
       "(20.0, 100.0)"
      ]
     },
     "execution_count": 11,
     "metadata": {},
     "output_type": "execute_result"
    },
    {
     "data": {
      "image/png": "[encoded data removed]",
      "text/plain": [
       "<Figure size 1100x850 with 1 Axes>"
      ]
     },
     "metadata": {},
     "output_type": "display_data"
    }
   ],
   "source": [
    "plt.plot(pad_range_1d, chi_vals);\n",
    "plt.xlim(20, 100)"
   ]
  },
  {
   "cell_type": "code",
   "execution_count": 10,
   "metadata": {},
   "outputs": [
    {
     "data": {
      "text/plain": [
       "<matplotlib.colorbar.Colorbar at 0x103951a90>"
      ]
     },
     "execution_count": 10,
     "metadata": {},
     "output_type": "execute_result"
    },
    {
     "data": {
      "image/png": "[encoded data removed]",
      "text/plain": [
       "<Figure size 1100x850 with 2 Axes>"
      ]
     },
     "metadata": {},
     "output_type": "display_data"
    }
   ],
   "source": [
    "results = chi_2d()\n",
    "\n",
    "limits = [nbin_range[0], nbin_range[-1] + 10, pad_range[0], pad_range[-1] + 2]\n",
    "\n",
    "plt.imshow(results, origin=\"lower\", extent=limits, aspect=\"auto\")\n",
    "plt.colorbar()"
   ]
  }
 ],
 "metadata": {
  "kernelspec": {
   "display_name": "grizli-env",
   "language": "python",
   "name": "python3"
  },
  "language_info": {
   "codemirror_mode": {
    "name": "ipython",
    "version": 3
   },
   "file_extension": ".py",
   "mimetype": "text/x-python",
   "name": "python",
   "nbconvert_exporter": "python",
   "pygments_lexer": "ipython3",
   "version": "3.12.3"
  }
 },
 "nbformat": 4,
 "nbformat_minor": 2
}
