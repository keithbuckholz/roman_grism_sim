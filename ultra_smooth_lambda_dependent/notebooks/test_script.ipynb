{
 "cells": [
  {
   "cell_type": "code",
   "execution_count": 1,
   "metadata": {},
   "outputs": [
    {
     "name": "stderr",
     "output_type": "stream",
     "text": [
      "/Users/keith/miniconda3/envs/grizli-env/lib/python3.12/site-packages/pysynphot/refs.py:117: UserWarning: No graph or component tables found; functionality will be SEVERELY crippled. No files found for /Users/keith/PYSYN_CDBS/mtab/*_tmg.fits\n",
      "  warnings.warn('No graph or component tables found; '\n",
      "/Users/keith/miniconda3/envs/grizli-env/lib/python3.12/site-packages/pysynphot/refs.py:124: UserWarning: No thermal tables found, no thermal calculations can be performed. No files found for /Users/keith/PYSYN_CDBS/mtab/*_tmt.fits\n",
      "  warnings.warn('No thermal tables found, '\n",
      "**WARNING**: LOCAL JWST PRD VERSION PRDOPSSOC-065 DOESN'T MATCH THE CURRENT ONLINE VERSION PRDOPSSOC-068\n",
      "Please consider updating pysiaf, e.g. pip install --upgrade pysiaf or conda update pysiaf\n"
     ]
    }
   ],
   "source": [
    "import matplotlib.pyplot as plt\n",
    "import numpy as np\n",
    "import wavelength_dependent_PSF_grism_sim as PSF_Grism"
   ]
  },
  {
   "cell_type": "code",
   "execution_count": 2,
   "metadata": {},
   "outputs": [
    {
     "name": "stdout",
     "output_type": "stream",
     "text": [
      "\n",
      "\n",
      "Image cutout: x=slice(0, 4088, None), y=slice(0, 4088, None) [Out of range]\n",
      "/Users/keith/astr/research_astr/roman_grism_sim/ultra_smooth_lambda_dependent/fits/empty_direct.fits / Pad ref HDU with 264 pixels\n",
      "/Users/keith/astr/research_astr/roman_grism_sim/ultra_smooth_lambda_dependent/fits/empty_direct.fits / blot segmentation /Users/keith/astr/research_astr/roman_grism_sim/ultra_smooth_lambda_dependent/fits/empty_seg.fits[0]\n",
      "The following task in the stsci.skypac package can be run with TEAL:\n",
      "                                    skymatch                                    \n",
      "The following tasks in the drizzlepac package can be run with TEAL:\n",
      "    astrodrizzle       config_testbed      imagefindpars           mapreg       \n",
      "       photeq            pixreplace           pixtopix            pixtosky      \n",
      "  refimagefindpars       resetbits          runastrodriz          skytopix      \n",
      "     tweakback            tweakreg           updatenpol\n",
      "Using default C-based coordinate transformation...\n",
      "Using default C-based coordinate transformation...\n"
     ]
    }
   ],
   "source": [
    "empty_fits_dir = \"/Users/keith/astr/research_astr/roman_grism_sim/ultra_smooth_lambda_dependent/fits\"\n",
    "spectrum_file = \"/Users/keith/astr/research_astr/FOV0/FOV0_SEDs/ukg0v.dat\"\n",
    "bandpass_file = \"/Users/keith/astr/research_astr/FOV0/FOV0_SEDs/wfirst_wfi_f158_001_syn.fits\"\n",
    "\n",
    "roman_sim = PSF_Grism.disperse_one_star(empty_fits_dir=empty_fits_dir, spectrum_file=spectrum_file, bandpass_file=bandpass_file)"
   ]
  },
  {
   "cell_type": "code",
   "execution_count": 6,
   "metadata": {},
   "outputs": [
    {
     "data": {
      "text/plain": [
       "<matplotlib.image.AxesImage at 0x3a9c40b00>"
      ]
     },
     "execution_count": 6,
     "metadata": {},
     "output_type": "execute_result"
    },
    {
     "data": {
      "image/png": "[encoded data removed]",
      "text/plain": [
       "<Figure size 640x480 with 1 Axes>"
      ]
     },
     "metadata": {},
     "output_type": "display_data"
    }
   ],
   "source": [
    "plt.imshow(roman_sim.model[2000:2300, 1250:3000], vmin=0, vmax=1, origin=\"lower\", cmap=\"hot\")"
   ]
  }
 ],
 "metadata": {
  "kernelspec": {
   "display_name": "grizli-env",
   "language": "python",
   "name": "python3"
  },
  "language_info": {
   "codemirror_mode": {
    "name": "ipython",
    "version": 3
   },
   "file_extension": ".py",
   "mimetype": "text/x-python",
   "name": "python",
   "nbconvert_exporter": "python",
   "pygments_lexer": "ipython3",
   "version": "3.12.3"
  }
 },
 "nbformat": 4,
 "nbformat_minor": 2
}
